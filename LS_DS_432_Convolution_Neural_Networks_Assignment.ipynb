{
  "nbformat": 4,
  "nbformat_minor": 0,
  "metadata": {
    "kernelspec": {
      "display_name": "U4-S2-NNF-DS10",
      "language": "python",
      "name": "u4-s2-nnf-ds10"
    },
    "language_info": {
      "codemirror_mode": {
        "name": "ipython",
        "version": 3
      },
      "file_extension": ".py",
      "mimetype": "text/x-python",
      "name": "python",
      "nbconvert_exporter": "python",
      "pygments_lexer": "ipython3",
      "version": "3.7.6"
    },
    "nteract": {
      "version": "0.23.1"
    },
    "colab": {
      "name": "LS_DS_432_Convolution_Neural_Networks_Assignment.ipynb",
      "provenance": [],
      "machine_shape": "hm",
      "include_colab_link": true
    },
    "accelerator": "GPU"
  },
  "cells": [
    {
      "cell_type": "markdown",
      "metadata": {
        "id": "view-in-github",
        "colab_type": "text"
      },
      "source": [
        "<a href=\"https://colab.research.google.com/github/noah40povis/DS-Unit-4-Sprint-3-Deep-Learning/blob/main/LS_DS_432_Convolution_Neural_Networks_Assignment.ipynb\" target=\"_parent\"><img src=\"https://colab.research.google.com/assets/colab-badge.svg\" alt=\"Open In Colab\"/></a>"
      ]
    },
    {
      "cell_type": "markdown",
      "metadata": {
        "id": "kASJoiv4l19o",
        "colab_type": "text"
      },
      "source": [
        "<img align=\"left\" src=\"https://lever-client-logos.s3.amazonaws.com/864372b1-534c-480e-acd5-9711f850815c-1524247202159.png\" width=200>\n",
        "<br></br>\n",
        "<br></br>\n",
        "\n",
        "## *Data Science Unit 4 Sprint 3 Assignment 2*\n",
        "# Convolutional Neural Networks (CNNs)"
      ]
    },
    {
      "cell_type": "markdown",
      "metadata": {
        "colab_type": "text",
        "id": "0lfZdD_cp1t5"
      },
      "source": [
        "# Assignment\n",
        "\n",
        "- <a href=\"#p1\">Part 1:</a> Pre-Trained Model\n",
        "- <a href=\"#p2\">Part 2:</a> Custom CNN Model\n",
        "- <a href=\"#p3\">Part 3:</a> CNN with Data Augmentation\n",
        "\n",
        "\n",
        "You will apply three different CNN models to a binary image classification model using Keras. Classify images of Mountains (`./data/train/mountain/*`) and images of forests (`./data/train/forest/*`). Treat mountains as the positive class (1) and the forest images as the negative (zero). \n",
        "\n",
        "|Mountain (+)|Forest (-)|\n",
        "|---|---|\n",
        "|![](https://github.com/noah40povis/DS-Unit-4-Sprint-3-Deep-Learning/blob/main/module2-convolutional-neural-networks/data/train/mountain/art1131.jpg?raw=1)|![](https://github.com/noah40povis/DS-Unit-4-Sprint-3-Deep-Learning/blob/main/module2-convolutional-neural-networks/data/validation/forest/cdmc317.jpg?raw=1)|\n",
        "\n",
        "The problem is relatively difficult given that the sample is tiny: there are about 350 observations per class. This sample size might be something that you can expect with prototyping an image classification problem/solution at work. Get accustomed to evaluating several different possible models."
      ]
    },
    {
      "cell_type": "markdown",
      "metadata": {
        "colab_type": "text",
        "id": "9DIedumgl19r"
      },
      "source": [
        "# Pre - Trained Model\n",
        "<a id=\"p1\"></a>\n",
        "\n",
        "Load a pretrained network from Keras, [ResNet50](https://tfhub.dev/google/imagenet/resnet_v1_50/classification/1) - a 50 layer deep network trained to recognize [1000 objects](https://storage.googleapis.com/download.tensorflow.org/data/ImageNetLabels.txt). Starting usage:\n",
        "\n",
        "```python\n",
        "import numpy as np\n",
        "\n",
        "from tensorflow.keras.applications.resnet50 import ResNet50\n",
        "from tensorflow.keras.preprocessing import image\n",
        "from tensorflow.keras.applications.resnet50 import preprocess_input, decode_predictions\n",
        "\n",
        "from tensorflow.keras.layers import Dense, GlobalAveragePooling2D\n",
        "from tensorflow.keras.models import Model # This is the functional API\n",
        "\n",
        "resnet = ResNet50(weights='imagenet', include_top=False)\n",
        "\n",
        "```\n",
        "\n",
        "The `include_top` parameter in `ResNet50` will remove the full connected layers from the ResNet model. The next step is to turn off the training of the ResNet layers. We want to use the learned parameters without updating them in future training passes. \n",
        "\n",
        "```python\n",
        "for layer in resnet.layers:\n",
        "    layer.trainable = False\n",
        "```\n",
        "\n",
        "Using the Keras functional API, we will need to additional additional full connected layers to our model. We we removed the top layers, we removed all preivous fully connected layers. In other words, we kept only the feature processing portions of our network. You can expert with additional layers beyond what's listed here. The `GlobalAveragePooling2D` layer functions as a really fancy flatten function by taking the average of each of the last convolutional layer outputs (which is two dimensional still). \n",
        "\n",
        "```python\n",
        "x = resnet.output\n",
        "x = GlobalAveragePooling2D()(x) # This layer is a really fancy flatten\n",
        "x = Dense(1024, activation='relu')(x)\n",
        "predictions = Dense(1, activation='sigmoid')(x)\n",
        "model = Model(resnet.input, predictions)\n",
        "```\n",
        "\n",
        "Your assignment is to apply the transfer learning above to classify images of Mountains (`./data/train/mountain/*`) and images of forests (`./data/train/forest/*`). Treat mountains as the positive class (1) and the forest images as the negative (zero). \n",
        "\n",
        "Steps to complete assignment: \n",
        "1. Load in Image Data into numpy arrays (`X`) \n",
        "2. Create a `y` for the labels\n",
        "3. Train your model with pre-trained layers from resnet\n",
        "4. Report your model's accuracy"
      ]
    },
    {
      "cell_type": "markdown",
      "metadata": {
        "id": "lsifw3url19r",
        "colab_type": "text"
      },
      "source": [
        "## Load in Data\n",
        "\n",
        "This surprisingly more difficult than it seems, because you are working with directories of images instead of a single file. This boiler plate will help you download a zipped version of the directory of images. The directory is organized into \"train\" and \"validation\" which you can use inside an `ImageGenerator` class to stream batches of images thru your model.  \n"
      ]
    },
    {
      "cell_type": "markdown",
      "metadata": {
        "id": "xMm6F4WCl19s",
        "colab_type": "text"
      },
      "source": [
        "### Download & Summarize the Data\n",
        "\n",
        "This step is completed for you. Just run the cells and review the results. "
      ]
    },
    {
      "cell_type": "code",
      "metadata": {
        "id": "s5_PxLyktzTv",
        "colab_type": "code",
        "colab": {
          "base_uri": "https://localhost:8080/",
          "height": 136
        },
        "outputId": "0c140312-5dc9-4c77-d092-bbe0d0233549"
      },
      "source": [
        "! git clone https://github.com/noah40povis/DS-Unit-4-Sprint-3-Deep-Learning.git"
      ],
      "execution_count": 18,
      "outputs": [
        {
          "output_type": "stream",
          "text": [
            "Cloning into 'DS-Unit-4-Sprint-3-Deep-Learning'...\n",
            "remote: Enumerating objects: 3, done.\u001b[K\n",
            "remote: Counting objects: 100% (3/3), done.\u001b[K\n",
            "remote: Compressing objects: 100% (3/3), done.\u001b[K\n",
            "remote: Total 1115 (delta 0), reused 0 (delta 0), pack-reused 1112\u001b[K\n",
            "Receiving objects: 100% (1115/1115), 100.18 MiB | 13.42 MiB/s, done.\n",
            "Resolving deltas: 100% (123/123), done.\n"
          ],
          "name": "stdout"
        }
      ]
    },
    {
      "cell_type": "code",
      "metadata": {
        "id": "-O65zPixnWCn",
        "colab_type": "code",
        "colab": {}
      },
      "source": [
        "import numpy as np\n",
        " \n",
        "from tensorflow.keras.applications.resnet50 import ResNet50\n",
        "from tensorflow.keras.preprocessing import image\n",
        "from tensorflow.keras.applications.resnet50 import preprocess_input, decode_predictions\n",
        " \n",
        "from tensorflow.keras.layers import Dense, GlobalAveragePooling2D\n",
        "from tensorflow.keras.models import Model # This is the functional API\n",
        " \n",
        "resnet = ResNet50(weights='imagenet', include_top=False)"
      ],
      "execution_count": 19,
      "outputs": []
    },
    {
      "cell_type": "code",
      "metadata": {
        "id": "uz1KFxA2l19t",
        "colab_type": "code",
        "colab": {}
      },
      "source": [
        "import tensorflow as tf\n",
        "import os\n",
        "\n",
        "PATH = '/content/DS-Unit-4-Sprint-3-Deep-Learning/module2-convolutional-neural-networks/data'\n"
      ],
      "execution_count": 20,
      "outputs": []
    },
    {
      "cell_type": "code",
      "metadata": {
        "id": "U743vn9jl19x",
        "colab_type": "code",
        "colab": {}
      },
      "source": [
        "train_dir = os.path.join(PATH, 'train')\n",
        "validation_dir = os.path.join(PATH, 'validation')"
      ],
      "execution_count": 21,
      "outputs": []
    },
    {
      "cell_type": "code",
      "metadata": {
        "id": "huAue4ggl190",
        "colab_type": "code",
        "colab": {}
      },
      "source": [
        "train_mountain_dir = os.path.join(train_dir, 'mountain')  # directory with our training cat pictures\n",
        "train_forest_dir = os.path.join(train_dir, 'forest')  # directory with our training dog pictures\n",
        "validation_mountain_dir = os.path.join(validation_dir, 'mountain')  # directory with our validation cat pictures\n",
        "validation_forest_dir = os.path.join(validation_dir, 'forest')  # directory with our validation dog pictures"
      ],
      "execution_count": 22,
      "outputs": []
    },
    {
      "cell_type": "code",
      "metadata": {
        "id": "DUD1rlGetjMI",
        "colab_type": "code",
        "colab": {
          "base_uri": "https://localhost:8080/",
          "height": 52
        },
        "outputId": "1775d07b-a188-482a-969c-04487ce6d841"
      },
      "source": [
        "train_mountain_dir"
      ],
      "execution_count": 23,
      "outputs": [
        {
          "output_type": "execute_result",
          "data": {
            "application/vnd.google.colaboratory.intrinsic+json": {
              "type": "string"
            },
            "text/plain": [
              "'/content/DS-Unit-4-Sprint-3-Deep-Learning/module2-convolutional-neural-networks/data/train/mountain'"
            ]
          },
          "metadata": {
            "tags": []
          },
          "execution_count": 23
        }
      ]
    },
    {
      "cell_type": "code",
      "metadata": {
        "id": "lF-tVfjkl194",
        "colab_type": "code",
        "colab": {}
      },
      "source": [
        "num_mountain_tr = len(os.listdir(train_mountain_dir))\n",
        "num_forest_tr = len(os.listdir(train_forest_dir))\n",
        "\n",
        "num_mountain_val = len(os.listdir(validation_mountain_dir))\n",
        "num_forest_val = len(os.listdir(validation_forest_dir))\n",
        "\n",
        "total_train = num_mountain_tr + num_forest_tr\n",
        "total_val = num_mountain_val + num_forest_val"
      ],
      "execution_count": 24,
      "outputs": []
    },
    {
      "cell_type": "code",
      "metadata": {
        "id": "jnBZ18mPl198",
        "colab_type": "code",
        "colab": {
          "base_uri": "https://localhost:8080/",
          "height": 136
        },
        "outputId": "ac48cf1e-64ad-4c33-8f3f-5140e074c3d1"
      },
      "source": [
        "print('total training mountain images:', num_mountain_tr)\n",
        "print('total training forest images:', num_forest_tr)\n",
        "\n",
        "print('total validation mountain images:', num_mountain_val)\n",
        "print('total validation forest images:', num_forest_val)\n",
        "print(\"--\")\n",
        "print(\"Total training images:\", total_train)\n",
        "print(\"Total validation images:\", total_val)"
      ],
      "execution_count": 25,
      "outputs": [
        {
          "output_type": "stream",
          "text": [
            "total training mountain images: 253\n",
            "total training forest images: 269\n",
            "total validation mountain images: 124\n",
            "total validation forest images: 61\n",
            "--\n",
            "Total training images: 522\n",
            "Total validation images: 185\n"
          ],
          "name": "stdout"
        }
      ]
    },
    {
      "cell_type": "markdown",
      "metadata": {
        "id": "lBDpkrQEl19_",
        "colab_type": "text"
      },
      "source": [
        "### Keras `ImageGenerator` to Process the Data\n",
        "\n",
        "This step is completed for you, but please review the code. The `ImageGenerator` class reads in batches of data from a directory and pass them to the model one batch at a time. Just like large text files, this method is advantageous, because it stifles the need to load a bunch of images into memory. \n",
        "\n",
        "Check out the documentation for this class method: [Keras `ImageGenerator` Class](https://keras.io/preprocessing/image/#imagedatagenerator-class). You'll expand it's use in the third assignment objective."
      ]
    },
    {
      "cell_type": "code",
      "metadata": {
        "id": "dvlmzwoul1-A",
        "colab_type": "code",
        "colab": {}
      },
      "source": [
        "batch_size = 16\n",
        "epochs = 50\n",
        "IMG_HEIGHT = 224\n",
        "IMG_WIDTH = 224"
      ],
      "execution_count": 26,
      "outputs": []
    },
    {
      "cell_type": "code",
      "metadata": {
        "id": "2UL50SwXl1-D",
        "colab_type": "code",
        "colab": {}
      },
      "source": [
        "from tensorflow.keras.preprocessing.image import ImageDataGenerator\n",
        "\n",
        "train_image_generator = ImageDataGenerator(rescale=1./255) # Generator for our training data\n",
        "validation_image_generator = ImageDataGenerator(rescale=1./255) # Generator for our validation data"
      ],
      "execution_count": 27,
      "outputs": []
    },
    {
      "cell_type": "code",
      "metadata": {
        "id": "0D9W1BPGl1-G",
        "colab_type": "code",
        "colab": {
          "base_uri": "https://localhost:8080/",
          "height": 34
        },
        "outputId": "6ba15df1-10e2-4996-8387-4e35b4eaf840"
      },
      "source": [
        "train_data_gen = train_image_generator.flow_from_directory(batch_size=batch_size,\n",
        "                                                           directory=train_dir,\n",
        "                                                           shuffle=True,\n",
        "                                                           target_size=(IMG_HEIGHT, IMG_WIDTH),\n",
        "                                                           class_mode='binary')"
      ],
      "execution_count": 28,
      "outputs": [
        {
          "output_type": "stream",
          "text": [
            "Found 520 images belonging to 2 classes.\n"
          ],
          "name": "stdout"
        }
      ]
    },
    {
      "cell_type": "code",
      "metadata": {
        "id": "dlmyiRyxl1-K",
        "colab_type": "code",
        "colab": {
          "base_uri": "https://localhost:8080/",
          "height": 34
        },
        "outputId": "19ef3489-d059-4b03-8645-0fcbdbbf1415"
      },
      "source": [
        "val_data_gen = validation_image_generator.flow_from_directory(batch_size=batch_size,\n",
        "                                                              directory=validation_dir,\n",
        "                                                              target_size=(IMG_HEIGHT, IMG_WIDTH),\n",
        "                                                              class_mode='binary')"
      ],
      "execution_count": 29,
      "outputs": [
        {
          "output_type": "stream",
          "text": [
            "Found 182 images belonging to 2 classes.\n"
          ],
          "name": "stdout"
        }
      ]
    },
    {
      "cell_type": "markdown",
      "metadata": {
        "id": "ln7xzGtZl1-N",
        "colab_type": "text"
      },
      "source": [
        "## Instatiate Model"
      ]
    },
    {
      "cell_type": "code",
      "metadata": {
        "id": "oLWqIrFJl1-N",
        "colab_type": "code",
        "colab": {}
      },
      "source": [
        "for layer in resnet.layers:\n",
        "    layer.trainable = False"
      ],
      "execution_count": 30,
      "outputs": []
    },
    {
      "cell_type": "code",
      "metadata": {
        "id": "xCXfASdFsqk2",
        "colab_type": "code",
        "colab": {}
      },
      "source": [
        "x = resnet.output\n",
        "x = GlobalAveragePooling2D()(x) # This layer is a really fancy flatten\n",
        "x = Dense(1024, activation='relu')(x)\n",
        "predictions = Dense(1, activation='sigmoid')(x)\n",
        "model = Model(resnet.input, predictions)"
      ],
      "execution_count": 31,
      "outputs": []
    },
    {
      "cell_type": "code",
      "metadata": {
        "id": "LOgm6FebsxFK",
        "colab_type": "code",
        "colab": {}
      },
      "source": [
        "model.compile(optimizer='adam', loss='binary_crossentropy', metrics=['binary_accuracy'])\n"
      ],
      "execution_count": 32,
      "outputs": []
    },
    {
      "cell_type": "markdown",
      "metadata": {
        "id": "1FcVTKuFl1-Q",
        "colab_type": "text"
      },
      "source": [
        "## Fit Model"
      ]
    },
    {
      "cell_type": "code",
      "metadata": {
        "id": "9rRGGL4vl1-R",
        "colab_type": "code",
        "colab": {
          "base_uri": "https://localhost:8080/",
          "height": 1000
        },
        "outputId": "8ce50896-5c4a-4420-baa8-71c3e5408253"
      },
      "source": [
        "history = model.fit(\n",
        "    train_data_gen,\n",
        "    steps_per_epoch=total_train // batch_size,\n",
        "    epochs=epochs,\n",
        "    validation_data=val_data_gen,\n",
        "    validation_steps=total_val // batch_size\n",
        ")"
      ],
      "execution_count": 33,
      "outputs": [
        {
          "output_type": "stream",
          "text": [
            "Epoch 1/50\n",
            "32/32 [==============================] - 3s 81ms/step - loss: 0.9911 - binary_accuracy: 0.4940 - val_loss: 0.5924 - val_binary_accuracy: 0.6818\n",
            "Epoch 2/50\n",
            "32/32 [==============================] - 2s 53ms/step - loss: 0.6616 - binary_accuracy: 0.5933 - val_loss: 0.5826 - val_binary_accuracy: 0.6761\n",
            "Epoch 3/50\n",
            "32/32 [==============================] - 2s 52ms/step - loss: 0.5442 - binary_accuracy: 0.7956 - val_loss: 0.6306 - val_binary_accuracy: 0.6193\n",
            "Epoch 4/50\n",
            "32/32 [==============================] - 2s 52ms/step - loss: 0.5266 - binary_accuracy: 0.7222 - val_loss: 0.7359 - val_binary_accuracy: 0.4602\n",
            "Epoch 5/50\n",
            "32/32 [==============================] - 2s 54ms/step - loss: 0.4837 - binary_accuracy: 0.8075 - val_loss: 0.4304 - val_binary_accuracy: 0.8750\n",
            "Epoch 6/50\n",
            "32/32 [==============================] - 2s 53ms/step - loss: 0.4368 - binary_accuracy: 0.8413 - val_loss: 0.3980 - val_binary_accuracy: 0.8750\n",
            "Epoch 7/50\n",
            "32/32 [==============================] - 2s 51ms/step - loss: 0.4395 - binary_accuracy: 0.8155 - val_loss: 0.3604 - val_binary_accuracy: 0.8523\n",
            "Epoch 8/50\n",
            "32/32 [==============================] - 2s 53ms/step - loss: 0.3894 - binary_accuracy: 0.8373 - val_loss: 0.3621 - val_binary_accuracy: 0.8864\n",
            "Epoch 9/50\n",
            "32/32 [==============================] - 2s 52ms/step - loss: 0.3596 - binary_accuracy: 0.8690 - val_loss: 0.4191 - val_binary_accuracy: 0.8409\n",
            "Epoch 10/50\n",
            "32/32 [==============================] - 2s 52ms/step - loss: 0.3878 - binary_accuracy: 0.8274 - val_loss: 0.5005 - val_binary_accuracy: 0.7955\n",
            "Epoch 11/50\n",
            "32/32 [==============================] - 2s 51ms/step - loss: 0.3252 - binary_accuracy: 0.8770 - val_loss: 0.3538 - val_binary_accuracy: 0.8750\n",
            "Epoch 12/50\n",
            "32/32 [==============================] - 2s 54ms/step - loss: 0.3175 - binary_accuracy: 0.8929 - val_loss: 0.4059 - val_binary_accuracy: 0.8523\n",
            "Epoch 13/50\n",
            "32/32 [==============================] - 2s 53ms/step - loss: 0.2866 - binary_accuracy: 0.8909 - val_loss: 0.6436 - val_binary_accuracy: 0.6705\n",
            "Epoch 14/50\n",
            "32/32 [==============================] - 2s 54ms/step - loss: 0.2757 - binary_accuracy: 0.8988 - val_loss: 0.3369 - val_binary_accuracy: 0.8523\n",
            "Epoch 15/50\n",
            "32/32 [==============================] - 2s 51ms/step - loss: 0.2561 - binary_accuracy: 0.9286 - val_loss: 0.3208 - val_binary_accuracy: 0.8523\n",
            "Epoch 16/50\n",
            "32/32 [==============================] - 2s 51ms/step - loss: 0.2218 - binary_accuracy: 0.9266 - val_loss: 0.2891 - val_binary_accuracy: 0.8977\n",
            "Epoch 17/50\n",
            "32/32 [==============================] - 2s 51ms/step - loss: 0.2088 - binary_accuracy: 0.9286 - val_loss: 0.4897 - val_binary_accuracy: 0.8125\n",
            "Epoch 18/50\n",
            "32/32 [==============================] - 2s 50ms/step - loss: 0.2682 - binary_accuracy: 0.9067 - val_loss: 0.3153 - val_binary_accuracy: 0.8636\n",
            "Epoch 19/50\n",
            "32/32 [==============================] - 2s 51ms/step - loss: 0.2196 - binary_accuracy: 0.9345 - val_loss: 0.4399 - val_binary_accuracy: 0.8352\n",
            "Epoch 20/50\n",
            "32/32 [==============================] - 2s 51ms/step - loss: 0.1904 - binary_accuracy: 0.9385 - val_loss: 0.2539 - val_binary_accuracy: 0.9205\n",
            "Epoch 21/50\n",
            "32/32 [==============================] - 2s 51ms/step - loss: 0.1694 - binary_accuracy: 0.9544 - val_loss: 0.2238 - val_binary_accuracy: 0.9148\n",
            "Epoch 22/50\n",
            "32/32 [==============================] - 2s 51ms/step - loss: 0.2023 - binary_accuracy: 0.9306 - val_loss: 0.3657 - val_binary_accuracy: 0.8466\n",
            "Epoch 23/50\n",
            "32/32 [==============================] - 2s 52ms/step - loss: 0.1762 - binary_accuracy: 0.9385 - val_loss: 0.3246 - val_binary_accuracy: 0.8580\n",
            "Epoch 24/50\n",
            "32/32 [==============================] - 2s 51ms/step - loss: 0.1610 - binary_accuracy: 0.9524 - val_loss: 0.2013 - val_binary_accuracy: 0.9261\n",
            "Epoch 25/50\n",
            "32/32 [==============================] - 2s 51ms/step - loss: 0.1668 - binary_accuracy: 0.9385 - val_loss: 0.2560 - val_binary_accuracy: 0.8920\n",
            "Epoch 26/50\n",
            "32/32 [==============================] - 2s 51ms/step - loss: 0.2086 - binary_accuracy: 0.9187 - val_loss: 0.6193 - val_binary_accuracy: 0.7443\n",
            "Epoch 27/50\n",
            "32/32 [==============================] - 2s 52ms/step - loss: 0.1462 - binary_accuracy: 0.9544 - val_loss: 0.2262 - val_binary_accuracy: 0.9375\n",
            "Epoch 28/50\n",
            "32/32 [==============================] - 2s 52ms/step - loss: 0.2026 - binary_accuracy: 0.9206 - val_loss: 0.5737 - val_binary_accuracy: 0.7727\n",
            "Epoch 29/50\n",
            "32/32 [==============================] - 2s 51ms/step - loss: 0.1414 - binary_accuracy: 0.9405 - val_loss: 0.2184 - val_binary_accuracy: 0.9375\n",
            "Epoch 30/50\n",
            "32/32 [==============================] - 2s 51ms/step - loss: 0.1385 - binary_accuracy: 0.9524 - val_loss: 0.5167 - val_binary_accuracy: 0.8068\n",
            "Epoch 31/50\n",
            "32/32 [==============================] - 2s 51ms/step - loss: 0.2651 - binary_accuracy: 0.8710 - val_loss: 0.2142 - val_binary_accuracy: 0.9375\n",
            "Epoch 32/50\n",
            "32/32 [==============================] - 2s 52ms/step - loss: 0.1162 - binary_accuracy: 0.9663 - val_loss: 0.2241 - val_binary_accuracy: 0.9375\n",
            "Epoch 33/50\n",
            "32/32 [==============================] - 2s 51ms/step - loss: 0.1970 - binary_accuracy: 0.9147 - val_loss: 0.6985 - val_binary_accuracy: 0.7216\n",
            "Epoch 34/50\n",
            "32/32 [==============================] - 2s 50ms/step - loss: 0.1510 - binary_accuracy: 0.9444 - val_loss: 0.3455 - val_binary_accuracy: 0.8466\n",
            "Epoch 35/50\n",
            "32/32 [==============================] - 2s 51ms/step - loss: 0.1021 - binary_accuracy: 0.9663 - val_loss: 0.2252 - val_binary_accuracy: 0.9091\n",
            "Epoch 36/50\n",
            "32/32 [==============================] - 2s 51ms/step - loss: 0.1227 - binary_accuracy: 0.9603 - val_loss: 0.3417 - val_binary_accuracy: 0.8636\n",
            "Epoch 37/50\n",
            "32/32 [==============================] - 2s 52ms/step - loss: 0.0906 - binary_accuracy: 0.9702 - val_loss: 0.2179 - val_binary_accuracy: 0.9375\n",
            "Epoch 38/50\n",
            "32/32 [==============================] - 2s 52ms/step - loss: 0.1445 - binary_accuracy: 0.9444 - val_loss: 0.5662 - val_binary_accuracy: 0.8011\n",
            "Epoch 39/50\n",
            "32/32 [==============================] - 2s 51ms/step - loss: 0.1733 - binary_accuracy: 0.9345 - val_loss: 0.1963 - val_binary_accuracy: 0.9261\n",
            "Epoch 40/50\n",
            "32/32 [==============================] - 2s 51ms/step - loss: 0.0941 - binary_accuracy: 0.9590 - val_loss: 0.1957 - val_binary_accuracy: 0.9375\n",
            "Epoch 41/50\n",
            "32/32 [==============================] - 2s 53ms/step - loss: 0.0982 - binary_accuracy: 0.9643 - val_loss: 0.3232 - val_binary_accuracy: 0.8807\n",
            "Epoch 42/50\n",
            "32/32 [==============================] - 2s 52ms/step - loss: 0.0794 - binary_accuracy: 0.9762 - val_loss: 0.2214 - val_binary_accuracy: 0.9148\n",
            "Epoch 43/50\n",
            "32/32 [==============================] - 2s 52ms/step - loss: 0.0821 - binary_accuracy: 0.9762 - val_loss: 0.3992 - val_binary_accuracy: 0.8466\n",
            "Epoch 44/50\n",
            "32/32 [==============================] - 2s 52ms/step - loss: 0.0785 - binary_accuracy: 0.9782 - val_loss: 0.2468 - val_binary_accuracy: 0.9148\n",
            "Epoch 45/50\n",
            "32/32 [==============================] - 2s 49ms/step - loss: 0.0937 - binary_accuracy: 0.9722 - val_loss: 0.1856 - val_binary_accuracy: 0.9432\n",
            "Epoch 46/50\n",
            "32/32 [==============================] - 2s 52ms/step - loss: 0.0757 - binary_accuracy: 0.9702 - val_loss: 0.1811 - val_binary_accuracy: 0.9375\n",
            "Epoch 47/50\n",
            "32/32 [==============================] - 2s 52ms/step - loss: 0.0795 - binary_accuracy: 0.9841 - val_loss: 0.1868 - val_binary_accuracy: 0.9432\n",
            "Epoch 48/50\n",
            "32/32 [==============================] - 2s 52ms/step - loss: 0.0795 - binary_accuracy: 0.9762 - val_loss: 0.2295 - val_binary_accuracy: 0.9205\n",
            "Epoch 49/50\n",
            "32/32 [==============================] - 2s 51ms/step - loss: 0.0705 - binary_accuracy: 0.9762 - val_loss: 0.1910 - val_binary_accuracy: 0.9432\n",
            "Epoch 50/50\n",
            "32/32 [==============================] - 2s 52ms/step - loss: 0.0792 - binary_accuracy: 0.9643 - val_loss: 0.5104 - val_binary_accuracy: 0.8182\n"
          ],
          "name": "stdout"
        }
      ]
    },
    {
      "cell_type": "markdown",
      "metadata": {
        "id": "skUuI1Nll1-T",
        "colab_type": "text"
      },
      "source": [
        "# Custom CNN Model\n",
        "\n",
        "In this step, write and train your own convolutional neural network using Keras. You can use any architecture that suits you as long as it has at least one convolutional and one pooling layer at the beginning of the network - you can add more if you want. "
      ]
    },
    {
      "cell_type": "code",
      "metadata": {
        "id": "zwM141xAl1-U",
        "colab_type": "code",
        "colab": {}
      },
      "source": [
        "# Define the Model\n",
        "from tensorflow.keras.models import Sequential\n",
        "from tensorflow.keras.layers import Dense, Conv2D, MaxPooling2D, Flatten, Dropout\n",
        "\n",
        "model = Sequential()\n",
        "model.add(Conv2D(32, (3,3), activation='relu', input_shape=(IMG_HEIGHT, IMG_WIDTH, 3)))\n",
        "model.add(MaxPooling2D((2,2)))\n",
        "model.add(Dropout(0.2))\n",
        "\n",
        "model.add(Conv2D(16, (3,3), activation='relu'))\n",
        "model.add(MaxPooling2D((2,2)))\n",
        "model.add(Dropout(0.2))\n",
        "\n",
        "model.add(Conv2D(32, (3,3), activation='relu'))\n",
        "model.add(Flatten())\n",
        "model.add(Dense(32, activation='relu'))\n",
        "model.add(Dropout(0.2))\n",
        "\n",
        "model.add(Dense(1, activation='sigmoid'))\n"
      ],
      "execution_count": 34,
      "outputs": []
    },
    {
      "cell_type": "code",
      "metadata": {
        "id": "KCF2JwxWl1-W",
        "colab_type": "code",
        "colab": {}
      },
      "source": [
        "# Compile Model\n",
        "model.compile(optimizer='adam', loss='binary_crossentropy', metrics=['binary_accuracy'])"
      ],
      "execution_count": 35,
      "outputs": []
    },
    {
      "cell_type": "code",
      "metadata": {
        "id": "8XV_q1Wll1-c",
        "colab_type": "code",
        "colab": {
          "base_uri": "https://localhost:8080/",
          "height": 1000
        },
        "outputId": "2ce04b3f-6b08-41b0-c14d-784a7942b582"
      },
      "source": [
        "# Fit Model\n",
        "model.fit(\n",
        "    train_data_gen,\n",
        "    epochs=50,\n",
        "    validation_data=val_data_gen\n",
        ")"
      ],
      "execution_count": 36,
      "outputs": [
        {
          "output_type": "stream",
          "text": [
            "Epoch 1/50\n",
            "33/33 [==============================] - 2s 51ms/step - loss: 0.6030 - binary_accuracy: 0.7096 - val_loss: 0.2120 - val_binary_accuracy: 0.9231\n",
            "Epoch 2/50\n",
            "33/33 [==============================] - 2s 46ms/step - loss: 0.2261 - binary_accuracy: 0.9192 - val_loss: 0.1770 - val_binary_accuracy: 0.9396\n",
            "Epoch 3/50\n",
            "33/33 [==============================] - 2s 47ms/step - loss: 0.1845 - binary_accuracy: 0.9288 - val_loss: 0.2339 - val_binary_accuracy: 0.8846\n",
            "Epoch 4/50\n",
            "33/33 [==============================] - 2s 48ms/step - loss: 0.1587 - binary_accuracy: 0.9462 - val_loss: 0.1853 - val_binary_accuracy: 0.9341\n",
            "Epoch 5/50\n",
            "33/33 [==============================] - 2s 53ms/step - loss: 0.1071 - binary_accuracy: 0.9615 - val_loss: 0.1704 - val_binary_accuracy: 0.9341\n",
            "Epoch 6/50\n",
            "33/33 [==============================] - 2s 48ms/step - loss: 0.0937 - binary_accuracy: 0.9577 - val_loss: 0.1978 - val_binary_accuracy: 0.9341\n",
            "Epoch 7/50\n",
            "33/33 [==============================] - 2s 46ms/step - loss: 0.1086 - binary_accuracy: 0.9615 - val_loss: 0.4861 - val_binary_accuracy: 0.7747\n",
            "Epoch 8/50\n",
            "33/33 [==============================] - 2s 47ms/step - loss: 0.1018 - binary_accuracy: 0.9635 - val_loss: 0.1990 - val_binary_accuracy: 0.9286\n",
            "Epoch 9/50\n",
            "33/33 [==============================] - 2s 47ms/step - loss: 0.0858 - binary_accuracy: 0.9731 - val_loss: 0.1989 - val_binary_accuracy: 0.9341\n",
            "Epoch 10/50\n",
            "33/33 [==============================] - 2s 48ms/step - loss: 0.0943 - binary_accuracy: 0.9769 - val_loss: 0.2037 - val_binary_accuracy: 0.9286\n",
            "Epoch 11/50\n",
            "33/33 [==============================] - 2s 48ms/step - loss: 0.0368 - binary_accuracy: 0.9865 - val_loss: 0.1815 - val_binary_accuracy: 0.9286\n",
            "Epoch 12/50\n",
            "33/33 [==============================] - 2s 49ms/step - loss: 0.0316 - binary_accuracy: 0.9904 - val_loss: 0.1995 - val_binary_accuracy: 0.9341\n",
            "Epoch 13/50\n",
            "33/33 [==============================] - 2s 48ms/step - loss: 0.0103 - binary_accuracy: 0.9981 - val_loss: 0.5248 - val_binary_accuracy: 0.8681\n",
            "Epoch 14/50\n",
            "33/33 [==============================] - 2s 48ms/step - loss: 0.1607 - binary_accuracy: 0.9462 - val_loss: 0.1920 - val_binary_accuracy: 0.9451\n",
            "Epoch 15/50\n",
            "33/33 [==============================] - 2s 48ms/step - loss: 0.1892 - binary_accuracy: 0.9288 - val_loss: 0.4871 - val_binary_accuracy: 0.7692\n",
            "Epoch 16/50\n",
            "33/33 [==============================] - 2s 47ms/step - loss: 0.0781 - binary_accuracy: 0.9712 - val_loss: 0.2139 - val_binary_accuracy: 0.9231\n",
            "Epoch 17/50\n",
            "33/33 [==============================] - 2s 48ms/step - loss: 0.0420 - binary_accuracy: 0.9808 - val_loss: 0.2802 - val_binary_accuracy: 0.9066\n",
            "Epoch 18/50\n",
            "33/33 [==============================] - 2s 47ms/step - loss: 0.0416 - binary_accuracy: 0.9788 - val_loss: 0.1866 - val_binary_accuracy: 0.9286\n",
            "Epoch 19/50\n",
            "33/33 [==============================] - 2s 47ms/step - loss: 0.0273 - binary_accuracy: 0.9885 - val_loss: 0.2188 - val_binary_accuracy: 0.9286\n",
            "Epoch 20/50\n",
            "33/33 [==============================] - 2s 46ms/step - loss: 0.0121 - binary_accuracy: 0.9962 - val_loss: 0.2625 - val_binary_accuracy: 0.9341\n",
            "Epoch 21/50\n",
            "33/33 [==============================] - 2s 47ms/step - loss: 0.0053 - binary_accuracy: 1.0000 - val_loss: 0.2467 - val_binary_accuracy: 0.9341\n",
            "Epoch 22/50\n",
            "33/33 [==============================] - 2s 47ms/step - loss: 0.0047 - binary_accuracy: 1.0000 - val_loss: 0.4112 - val_binary_accuracy: 0.9011\n",
            "Epoch 23/50\n",
            "33/33 [==============================] - 2s 47ms/step - loss: 0.0020 - binary_accuracy: 1.0000 - val_loss: 0.4174 - val_binary_accuracy: 0.9121\n",
            "Epoch 24/50\n",
            "33/33 [==============================] - 2s 47ms/step - loss: 0.0047 - binary_accuracy: 0.9981 - val_loss: 0.4618 - val_binary_accuracy: 0.8901\n",
            "Epoch 25/50\n",
            "33/33 [==============================] - 2s 47ms/step - loss: 0.0091 - binary_accuracy: 0.9962 - val_loss: 0.4528 - val_binary_accuracy: 0.8901\n",
            "Epoch 26/50\n",
            "33/33 [==============================] - 2s 47ms/step - loss: 0.0026 - binary_accuracy: 1.0000 - val_loss: 0.5493 - val_binary_accuracy: 0.9011\n",
            "Epoch 27/50\n",
            "33/33 [==============================] - 2s 47ms/step - loss: 5.3023e-04 - binary_accuracy: 1.0000 - val_loss: 0.5254 - val_binary_accuracy: 0.9121\n",
            "Epoch 28/50\n",
            "33/33 [==============================] - 2s 47ms/step - loss: 0.0024 - binary_accuracy: 1.0000 - val_loss: 0.4076 - val_binary_accuracy: 0.9121\n",
            "Epoch 29/50\n",
            "33/33 [==============================] - 2s 48ms/step - loss: 0.0027 - binary_accuracy: 1.0000 - val_loss: 0.3792 - val_binary_accuracy: 0.9231\n",
            "Epoch 30/50\n",
            "33/33 [==============================] - 2s 49ms/step - loss: 0.0021 - binary_accuracy: 1.0000 - val_loss: 0.3682 - val_binary_accuracy: 0.9121\n",
            "Epoch 31/50\n",
            "33/33 [==============================] - 2s 50ms/step - loss: 0.0078 - binary_accuracy: 0.9962 - val_loss: 0.2743 - val_binary_accuracy: 0.9176\n",
            "Epoch 32/50\n",
            "33/33 [==============================] - 2s 49ms/step - loss: 0.0100 - binary_accuracy: 0.9981 - val_loss: 0.3407 - val_binary_accuracy: 0.9286\n",
            "Epoch 33/50\n",
            "33/33 [==============================] - 2s 49ms/step - loss: 0.0025 - binary_accuracy: 1.0000 - val_loss: 0.2869 - val_binary_accuracy: 0.9286\n",
            "Epoch 34/50\n",
            "33/33 [==============================] - 2s 49ms/step - loss: 9.9163e-04 - binary_accuracy: 1.0000 - val_loss: 0.5542 - val_binary_accuracy: 0.9011\n",
            "Epoch 35/50\n",
            "33/33 [==============================] - 2s 49ms/step - loss: 2.7336e-04 - binary_accuracy: 1.0000 - val_loss: 0.4618 - val_binary_accuracy: 0.9176\n",
            "Epoch 36/50\n",
            "33/33 [==============================] - 2s 47ms/step - loss: 4.9672e-04 - binary_accuracy: 1.0000 - val_loss: 0.6965 - val_binary_accuracy: 0.8681\n",
            "Epoch 37/50\n",
            "33/33 [==============================] - 2s 48ms/step - loss: 1.8629e-04 - binary_accuracy: 1.0000 - val_loss: 0.6010 - val_binary_accuracy: 0.9011\n",
            "Epoch 38/50\n",
            "33/33 [==============================] - 2s 48ms/step - loss: 3.0239e-04 - binary_accuracy: 1.0000 - val_loss: 0.4298 - val_binary_accuracy: 0.9121\n",
            "Epoch 39/50\n",
            "33/33 [==============================] - 2s 47ms/step - loss: 2.7331e-04 - binary_accuracy: 1.0000 - val_loss: 0.6392 - val_binary_accuracy: 0.8956\n",
            "Epoch 40/50\n",
            "33/33 [==============================] - 2s 47ms/step - loss: 3.8646e-04 - binary_accuracy: 1.0000 - val_loss: 0.5027 - val_binary_accuracy: 0.9121\n",
            "Epoch 41/50\n",
            "33/33 [==============================] - 2s 47ms/step - loss: 1.0202e-04 - binary_accuracy: 1.0000 - val_loss: 0.4992 - val_binary_accuracy: 0.9121\n",
            "Epoch 42/50\n",
            "33/33 [==============================] - 2s 47ms/step - loss: 9.3407e-05 - binary_accuracy: 1.0000 - val_loss: 0.5892 - val_binary_accuracy: 0.9121\n",
            "Epoch 43/50\n",
            "33/33 [==============================] - 2s 48ms/step - loss: 1.8462e-04 - binary_accuracy: 1.0000 - val_loss: 0.5105 - val_binary_accuracy: 0.9121\n",
            "Epoch 44/50\n",
            "33/33 [==============================] - 2s 47ms/step - loss: 3.2220e-04 - binary_accuracy: 1.0000 - val_loss: 0.7467 - val_binary_accuracy: 0.8846\n",
            "Epoch 45/50\n",
            "33/33 [==============================] - 2s 47ms/step - loss: 8.9869e-05 - binary_accuracy: 1.0000 - val_loss: 0.7730 - val_binary_accuracy: 0.8956\n",
            "Epoch 46/50\n",
            "33/33 [==============================] - 2s 47ms/step - loss: 3.5590e-04 - binary_accuracy: 1.0000 - val_loss: 1.0908 - val_binary_accuracy: 0.8681\n",
            "Epoch 47/50\n",
            "33/33 [==============================] - 2s 48ms/step - loss: 1.9287e-04 - binary_accuracy: 1.0000 - val_loss: 0.5829 - val_binary_accuracy: 0.9066\n",
            "Epoch 48/50\n",
            "33/33 [==============================] - 2s 47ms/step - loss: 3.2824e-04 - binary_accuracy: 1.0000 - val_loss: 0.4595 - val_binary_accuracy: 0.9231\n",
            "Epoch 49/50\n",
            "33/33 [==============================] - 2s 48ms/step - loss: 1.1844e-04 - binary_accuracy: 1.0000 - val_loss: 0.6372 - val_binary_accuracy: 0.9121\n",
            "Epoch 50/50\n",
            "33/33 [==============================] - 2s 48ms/step - loss: 5.9334e-05 - binary_accuracy: 1.0000 - val_loss: 0.6802 - val_binary_accuracy: 0.9066\n"
          ],
          "name": "stdout"
        },
        {
          "output_type": "execute_result",
          "data": {
            "text/plain": [
              "<tensorflow.python.keras.callbacks.History at 0x7f829e790a90>"
            ]
          },
          "metadata": {
            "tags": []
          },
          "execution_count": 36
        }
      ]
    },
    {
      "cell_type": "markdown",
      "metadata": {
        "id": "9SrXDPfsl1-f",
        "colab_type": "text"
      },
      "source": [
        "# Custom CNN Model with Image Manipulations\n",
        "\n",
        "To simulate an increase in a sample of image, you can apply image manipulation techniques: cropping, rotation, stretching, etc. Luckily Keras has some handy functions for us to apply these techniques to our mountain and forest example. Simply, you should be able to modify our image generator for the problem. Check out these resources to help you get started: \n",
        "\n",
        "1. [Keras `ImageGenerator` Class](https://keras.io/preprocessing/image/#imagedatagenerator-class)\n",
        "2. [Building a powerful image classifier with very little data](https://blog.keras.io/building-powerful-image-classification-models-using-very-little-data.html)\n",
        " "
      ]
    },
    {
      "cell_type": "code",
      "metadata": {
        "id": "AQa05xwql1-f",
        "colab_type": "code",
        "colab": {}
      },
      "source": [
        "train_image_generator = ImageDataGenerator(rescale=1./255, rotation_range=90, width_shift_range=.5, height_shift_range=.5)\n",
        "validation_image_generator = ImageDataGenerator(rescale=1./255, rotation_range=90, width_shift_range=.5, height_shift_range=.5)"
      ],
      "execution_count": 37,
      "outputs": []
    },
    {
      "cell_type": "code",
      "metadata": {
        "id": "45hnP6M3vNnV",
        "colab_type": "code",
        "colab": {
          "base_uri": "https://localhost:8080/",
          "height": 34
        },
        "outputId": "b17b2047-aed2-4a73-a8bb-5fd4a1fd8d80"
      },
      "source": [
        "train_data_gen = train_image_generator.flow_from_directory(batch_size=batch_size,\n",
        "                                                           directory=train_dir,\n",
        "                                                           shuffle=True,\n",
        "                                                           target_size=(IMG_HEIGHT, IMG_WIDTH),\n",
        "                                                           class_mode='binary')"
      ],
      "execution_count": 38,
      "outputs": [
        {
          "output_type": "stream",
          "text": [
            "Found 520 images belonging to 2 classes.\n"
          ],
          "name": "stdout"
        }
      ]
    },
    {
      "cell_type": "code",
      "metadata": {
        "id": "IMRL1Wt-vPhc",
        "colab_type": "code",
        "colab": {
          "base_uri": "https://localhost:8080/",
          "height": 34
        },
        "outputId": "210f7772-c894-4b96-d829-3dbc687a4d57"
      },
      "source": [
        "val_data_gen = validation_image_generator.flow_from_directory(batch_size=batch_size,\n",
        "                                                              directory=validation_dir,\n",
        "                                                              target_size=(IMG_HEIGHT, IMG_WIDTH),\n",
        "                                                              class_mode='binary')\n"
      ],
      "execution_count": 39,
      "outputs": [
        {
          "output_type": "stream",
          "text": [
            "Found 182 images belonging to 2 classes.\n"
          ],
          "name": "stdout"
        }
      ]
    },
    {
      "cell_type": "code",
      "metadata": {
        "id": "n3oDEAx_vToS",
        "colab_type": "code",
        "colab": {}
      },
      "source": [
        "model = Sequential()\n",
        "model.add(Conv2D(32, (3,3), activation='relu', input_shape=(IMG_HEIGHT, IMG_WIDTH, 3)))\n",
        "model.add(MaxPooling2D((2,2)))\n",
        "model.add(Dropout(0.2))\n",
        "\n",
        "model.add(Conv2D(32, (3,3), activation='relu'))\n",
        "model.add(Flatten())\n",
        "model.add(Dense(16, activation='relu'))\n",
        "model.add(Dropout(0.2))\n",
        "\n",
        "model.add(Dense(1, activation='sigmoid'))"
      ],
      "execution_count": 40,
      "outputs": []
    },
    {
      "cell_type": "code",
      "metadata": {
        "id": "j2JugnDbvUdJ",
        "colab_type": "code",
        "colab": {}
      },
      "source": [
        "model.compile(optimizer='adam', loss='binary_crossentropy', metrics=['binary_accuracy'])"
      ],
      "execution_count": 41,
      "outputs": []
    },
    {
      "cell_type": "code",
      "metadata": {
        "id": "NP1A9sduvYFM",
        "colab_type": "code",
        "colab": {
          "base_uri": "https://localhost:8080/",
          "height": 1000
        },
        "outputId": "3cbfd349-18cc-4e3f-a300-fb607ba5137d"
      },
      "source": [
        "model.fit(\n",
        "    train_data_gen,\n",
        "    epochs=30,\n",
        "    validation_data=val_data_gen\n",
        ")\n"
      ],
      "execution_count": 42,
      "outputs": [
        {
          "output_type": "stream",
          "text": [
            "Epoch 1/30\n",
            "33/33 [==============================] - 8s 244ms/step - loss: 1.0208 - binary_accuracy: 0.7404 - val_loss: 0.4560 - val_binary_accuracy: 0.7967\n",
            "Epoch 2/30\n",
            "33/33 [==============================] - 8s 239ms/step - loss: 0.4125 - binary_accuracy: 0.8519 - val_loss: 0.4879 - val_binary_accuracy: 0.7912\n",
            "Epoch 3/30\n",
            "33/33 [==============================] - 8s 237ms/step - loss: 0.3766 - binary_accuracy: 0.8596 - val_loss: 0.3422 - val_binary_accuracy: 0.8516\n",
            "Epoch 4/30\n",
            "33/33 [==============================] - 8s 236ms/step - loss: 0.3601 - binary_accuracy: 0.8846 - val_loss: 0.4648 - val_binary_accuracy: 0.7912\n",
            "Epoch 5/30\n",
            "33/33 [==============================] - 8s 237ms/step - loss: 0.3012 - binary_accuracy: 0.8769 - val_loss: 0.4205 - val_binary_accuracy: 0.7692\n",
            "Epoch 6/30\n",
            "33/33 [==============================] - 8s 237ms/step - loss: 0.3589 - binary_accuracy: 0.8462 - val_loss: 0.2952 - val_binary_accuracy: 0.8571\n",
            "Epoch 7/30\n",
            "33/33 [==============================] - 8s 237ms/step - loss: 0.3842 - binary_accuracy: 0.8442 - val_loss: 0.3543 - val_binary_accuracy: 0.8681\n",
            "Epoch 8/30\n",
            "33/33 [==============================] - 8s 237ms/step - loss: 0.3487 - binary_accuracy: 0.8731 - val_loss: 0.4123 - val_binary_accuracy: 0.8626\n",
            "Epoch 9/30\n",
            "33/33 [==============================] - 8s 240ms/step - loss: 0.2957 - binary_accuracy: 0.8731 - val_loss: 0.4818 - val_binary_accuracy: 0.7967\n",
            "Epoch 10/30\n",
            "33/33 [==============================] - 8s 238ms/step - loss: 0.4365 - binary_accuracy: 0.8058 - val_loss: 0.3334 - val_binary_accuracy: 0.8736\n",
            "Epoch 11/30\n",
            "33/33 [==============================] - 8s 237ms/step - loss: 0.3534 - binary_accuracy: 0.8712 - val_loss: 0.4295 - val_binary_accuracy: 0.8022\n",
            "Epoch 12/30\n",
            "33/33 [==============================] - 8s 238ms/step - loss: 0.2905 - binary_accuracy: 0.8942 - val_loss: 0.3389 - val_binary_accuracy: 0.8407\n",
            "Epoch 13/30\n",
            "33/33 [==============================] - 8s 238ms/step - loss: 0.3083 - binary_accuracy: 0.8942 - val_loss: 0.4375 - val_binary_accuracy: 0.8516\n",
            "Epoch 14/30\n",
            "33/33 [==============================] - 8s 237ms/step - loss: 0.3534 - binary_accuracy: 0.8750 - val_loss: 0.3506 - val_binary_accuracy: 0.8626\n",
            "Epoch 15/30\n",
            "33/33 [==============================] - 8s 238ms/step - loss: 0.3175 - binary_accuracy: 0.8827 - val_loss: 0.3015 - val_binary_accuracy: 0.8681\n",
            "Epoch 16/30\n",
            "33/33 [==============================] - 8s 243ms/step - loss: 0.2990 - binary_accuracy: 0.8865 - val_loss: 0.2701 - val_binary_accuracy: 0.8901\n",
            "Epoch 17/30\n",
            "33/33 [==============================] - 8s 238ms/step - loss: 0.2589 - binary_accuracy: 0.9154 - val_loss: 0.3590 - val_binary_accuracy: 0.8571\n",
            "Epoch 18/30\n",
            "33/33 [==============================] - 8s 241ms/step - loss: 0.2896 - binary_accuracy: 0.8654 - val_loss: 0.5332 - val_binary_accuracy: 0.8297\n",
            "Epoch 19/30\n",
            "33/33 [==============================] - 8s 240ms/step - loss: 0.3304 - binary_accuracy: 0.8519 - val_loss: 0.4603 - val_binary_accuracy: 0.8242\n",
            "Epoch 20/30\n",
            "33/33 [==============================] - 8s 244ms/step - loss: 0.3097 - binary_accuracy: 0.8904 - val_loss: 0.2969 - val_binary_accuracy: 0.8791\n",
            "Epoch 21/30\n",
            "33/33 [==============================] - 8s 246ms/step - loss: 0.2928 - binary_accuracy: 0.9019 - val_loss: 0.3788 - val_binary_accuracy: 0.8462\n",
            "Epoch 22/30\n",
            "33/33 [==============================] - 8s 238ms/step - loss: 0.2941 - binary_accuracy: 0.8885 - val_loss: 0.3163 - val_binary_accuracy: 0.8681\n",
            "Epoch 23/30\n",
            "33/33 [==============================] - 8s 237ms/step - loss: 0.3152 - binary_accuracy: 0.9019 - val_loss: 0.3602 - val_binary_accuracy: 0.8791\n",
            "Epoch 24/30\n",
            "33/33 [==============================] - 8s 238ms/step - loss: 0.2869 - binary_accuracy: 0.8885 - val_loss: 0.3071 - val_binary_accuracy: 0.8736\n",
            "Epoch 25/30\n",
            "33/33 [==============================] - 8s 238ms/step - loss: 0.3083 - binary_accuracy: 0.8558 - val_loss: 0.3575 - val_binary_accuracy: 0.8242\n",
            "Epoch 26/30\n",
            "33/33 [==============================] - 8s 238ms/step - loss: 0.3470 - binary_accuracy: 0.8500 - val_loss: 0.3486 - val_binary_accuracy: 0.8736\n",
            "Epoch 27/30\n",
            "33/33 [==============================] - 8s 238ms/step - loss: 0.2629 - binary_accuracy: 0.9115 - val_loss: 0.3170 - val_binary_accuracy: 0.8901\n",
            "Epoch 28/30\n",
            "33/33 [==============================] - 8s 240ms/step - loss: 0.3272 - binary_accuracy: 0.8808 - val_loss: 0.5631 - val_binary_accuracy: 0.7527\n",
            "Epoch 29/30\n",
            "33/33 [==============================] - 8s 240ms/step - loss: 0.2697 - binary_accuracy: 0.8962 - val_loss: 0.2943 - val_binary_accuracy: 0.8571\n",
            "Epoch 30/30\n",
            "33/33 [==============================] - 8s 238ms/step - loss: 0.2842 - binary_accuracy: 0.9019 - val_loss: 0.3013 - val_binary_accuracy: 0.8901\n"
          ],
          "name": "stdout"
        },
        {
          "output_type": "execute_result",
          "data": {
            "text/plain": [
              "<tensorflow.python.keras.callbacks.History at 0x7f828ab669e8>"
            ]
          },
          "metadata": {
            "tags": []
          },
          "execution_count": 42
        }
      ]
    },
    {
      "cell_type": "markdown",
      "metadata": {
        "colab_type": "text",
        "id": "uT3UV3gap9H6"
      },
      "source": [
        "# Resources and Stretch Goals\n",
        "\n",
        "Stretch goals\n",
        "- Enhance your code to use classes/functions and accept terms to search and classes to look for in recognizing the downloaded images (e.g. download images of parties, recognize all that contain balloons)\n",
        "- Check out [other available pretrained networks](https://tfhub.dev), try some and compare\n",
        "- Image recognition/classification is somewhat solved, but *relationships* between entities and describing an image is not - check out some of the extended resources (e.g. [Visual Genome](https://visualgenome.org/)) on the topic\n",
        "- Transfer learning - using images you source yourself, [retrain a classifier](https://www.tensorflow.org/hub/tutorials/image_retraining) with a new category\n",
        "- (Not CNN related) Use [piexif](https://pypi.org/project/piexif/) to check out the metadata of images passed in to your system - see if they're from a national park! (Note - many images lack GPS metadata, so this won't work in most cases, but still cool)\n",
        "\n",
        "Resources\n",
        "- [Deep Residual Learning for Image Recognition](https://arxiv.org/abs/1512.03385) - influential paper (introduced ResNet)\n",
        "- [YOLO: Real-Time Object Detection](https://pjreddie.com/darknet/yolo/) - an influential convolution based object detection system, focused on inference speed (for applications to e.g. self driving vehicles)\n",
        "- [R-CNN, Fast R-CNN, Faster R-CNN, YOLO](https://towardsdatascience.com/r-cnn-fast-r-cnn-faster-r-cnn-yolo-object-detection-algorithms-36d53571365e) - comparison of object detection systems\n",
        "- [Common Objects in Context](http://cocodataset.org/) - a large-scale object detection, segmentation, and captioning dataset\n",
        "- [Visual Genome](https://visualgenome.org/) - a dataset, a knowledge base, an ongoing effort to connect structured image concepts to language"
      ]
    }
  ]
}